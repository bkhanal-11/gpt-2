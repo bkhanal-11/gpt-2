{
 "cells": [
  {
   "cell_type": "code",
   "execution_count": 1,
   "metadata": {},
   "outputs": [],
   "source": [
    "import torch\n",
    "import torch.nn.functional as F\n",
    "from gpt2 import GPT2LanguageModel"
   ]
  },
  {
   "cell_type": "code",
   "execution_count": 2,
   "metadata": {},
   "outputs": [],
   "source": [
    "# Hyperparameters\n",
    "batch_size = 128\n",
    "hidden_size = 384\n",
    "num_hidden_layers = 6\n",
    "num_attention_head = 12\n",
    "\n",
    "intermediate_size = 4 * hidden_size\n",
    "dropout = 0.1\n",
    "max_positional_embeddings = 256\n",
    "layer_norm_eps = 1e-12\n",
    "# ------------\n",
    "display_step = 500\n",
    "learning_rate = 3e-4\n",
    "device = torch.device(\"cuda\" if torch.cuda.is_available() else \"cpu\")\n",
    "eval_iters = 200\n",
    "num_epochs = 5000"
   ]
  },
  {
   "cell_type": "code",
   "execution_count": 3,
   "metadata": {},
   "outputs": [],
   "source": [
    "torch.manual_seed(3)\n",
    "\n",
    "# !wget https://raw.githubusercontent.com/karpathy/char-rnn/master/data/tinyshakespeare/input.txt\n",
    "with open('input.txt', 'r', encoding='utf-8') as f:\n",
    "    text = f.read()\n",
    "\n",
    "# All the unique characters that occur in this text\n",
    "chars = sorted(list(set(text)))\n",
    "vocab_size = len(chars)\n",
    "\n",
    "# Create a mapping from characters to integers\n",
    "stoi = { ch:i for i,ch in enumerate(chars) }\n",
    "itos = { i:ch for i,ch in enumerate(chars) }\n",
    "encode = lambda s: [stoi[c] for c in s] # encoder: take a string, output a list of integers\n",
    "decode = lambda l: ''.join([itos[i] for i in l]) # decoder: take a list of integers, output a string\n",
    "\n",
    "# Train and test splits\n",
    "data = torch.tensor(encode(text), dtype=torch.long)\n",
    "n = int(0.9*len(data))\n",
    "train_data = data[:n]\n",
    "val_data = data[n:]\n",
    "\n",
    "# Load Data\n",
    "def get_batch(split):\n",
    "    # Generate a small batch of data of inputs x and targets y\n",
    "    data = train_data if split == 'train' else val_data\n",
    "    ix = torch.randint(len(data) - max_positional_embeddings, (batch_size,))\n",
    "    x = torch.stack([data[i:i+max_positional_embeddings] for i in ix])\n",
    "    y = torch.stack([data[i+1:i+max_positional_embeddings+1] for i in ix])\n",
    "    x, y = x.to(device), y.to(device)\n",
    "    return x, y"
   ]
  },
  {
   "cell_type": "code",
   "execution_count": 4,
   "metadata": {},
   "outputs": [],
   "source": [
    "def loss_fn(logits, targets):\n",
    "    B, T, C = logits.shape\n",
    "    logits = logits.view(B*T, C)\n",
    "    targets = targets.view(B*T)\n",
    "    loss = F.cross_entropy(logits, targets)\n",
    "\n",
    "    return loss\n",
    "\n",
    "@torch.no_grad()\n",
    "def estimate_loss():\n",
    "    out = {}\n",
    "    model.eval()\n",
    "    for split in ['train', 'val']:\n",
    "        losses = torch.zeros(eval_iters)\n",
    "        for k in range(eval_iters):\n",
    "            X, Y = get_batch(split)\n",
    "            logits = model(X)\n",
    "            loss = loss_fn(logits, Y)\n",
    "            losses[k] = loss.item()\n",
    "        out[split] = losses.mean()\n",
    "    model.train()\n",
    "    return out\n",
    "\n",
    "model = GPT2LanguageModel(\n",
    "                num_layers=num_hidden_layers,\n",
    "                num_heads=num_attention_head,\n",
    "                d_model=hidden_size,\n",
    "                fully_connected_dim=intermediate_size,\n",
    "                input_vocab_size=vocab_size,\n",
    "                maximum_position_encoding=max_positional_embeddings,\n",
    "                dropout_rate=dropout,\n",
    "                layernorm_eps=layer_norm_eps\n",
    "            )\n",
    "\n",
    "model = model.to(device)"
   ]
  },
  {
   "cell_type": "code",
   "execution_count": 5,
   "metadata": {},
   "outputs": [
    {
     "name": "stdout",
     "output_type": "stream",
     "text": [
      "Epoch 0: Training Loss 4.2533 | Val Loss 4.2470\n",
      "Epoch 500: Training Loss 1.6739 | Val Loss 1.8255\n",
      "Epoch 1000: Training Loss 1.3620 | Val Loss 1.5880\n",
      "Epoch 1500: Training Loss 1.2099 | Val Loss 1.5169\n",
      "Epoch 2000: Training Loss 1.0913 | Val Loss 1.5076\n",
      "Epoch 2500: Training Loss 0.9600 | Val Loss 1.5691\n",
      "Epoch 3000: Training Loss 0.8108 | Val Loss 1.6691\n",
      "Epoch 3500: Training Loss 0.6528 | Val Loss 1.8218\n",
      "Epoch 4000: Training Loss 0.4944 | Val Loss 2.0214\n",
      "Epoch 4500: Training Loss 0.3667 | Val Loss 2.2351\n",
      "Epoch 4999: Training Loss 0.2736 | Val Loss 2.4311\n"
     ]
    }
   ],
   "source": [
    "optimizer = torch.optim.AdamW(model.parameters(), lr=learning_rate)\n",
    "\n",
    "for epoch in range(num_epochs):\n",
    "    # Sample a batch of data\n",
    "    xb, yb = get_batch('train')\n",
    "\n",
    "    # Evaluate the loss\n",
    "    logits = model(xb)\n",
    "    loss = loss_fn(logits, yb)\n",
    "    optimizer.zero_grad(set_to_none=True)\n",
    "    loss.backward()\n",
    "    optimizer.step()\n",
    "    \n",
    "    # Every once in a while evaluate the loss on train and val sets\n",
    "    if epoch % display_step == 0 or epoch == num_epochs - 1:\n",
    "        losses = estimate_loss()\n",
    "        print(f\"Epoch {epoch}: Training Loss {losses['train']:.4f} | Val Loss {losses['val']:.4f}\")"
   ]
  },
  {
   "cell_type": "code",
   "execution_count": 6,
   "metadata": {},
   "outputs": [
    {
     "name": "stdout",
     "output_type": "stream",
     "text": [
      "\n",
      "\n",
      "BUCKINGHAM:\n",
      "Without his great content?\n",
      "\n",
      "Messenger:\n",
      "He sends you faint of fair William's worder with\n",
      "his villains, whom you have this slave pardon, you\n",
      "would have fill't with my friendship throne than hold:\n",
      "if he like you son should have been under a name,\n",
      "could buy quite in quiet to encounter him.\n",
      "\n",
      "First Senator:\n",
      "You, my lord, I am a king beasts; you may, I love.\n",
      "\n",
      "Second Servingman:\n",
      "What consul? what, canst nonclude what raintor\n",
      "should he do, with a little worthy particular,\n",
      "makes from his leag\n"
     ]
    }
   ],
   "source": [
    "# Generate from the model\n",
    "context = torch.zeros((1, 1), dtype=torch.long, device=device)\n",
    "print(decode(model.generate(context, max_new_tokens=500)[0].tolist()))"
   ]
  },
  {
   "cell_type": "code",
   "execution_count": 7,
   "metadata": {},
   "outputs": [],
   "source": [
    "# Save model for future reference\n",
    "torch.save(model, 'gpt2.pth')"
   ]
  }
 ],
 "metadata": {
  "kernelspec": {
   "display_name": "Python 3",
   "language": "python",
   "name": "python3"
  },
  "language_info": {
   "codemirror_mode": {
    "name": "ipython",
    "version": 3
   },
   "file_extension": ".py",
   "mimetype": "text/x-python",
   "name": "python",
   "nbconvert_exporter": "python",
   "pygments_lexer": "ipython3",
   "version": "3.10.6"
  },
  "orig_nbformat": 4
 },
 "nbformat": 4,
 "nbformat_minor": 2
}
